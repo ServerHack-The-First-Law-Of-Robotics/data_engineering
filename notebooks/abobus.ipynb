{
 "cells": [
  {
   "cell_type": "code",
   "execution_count": 5,
   "id": "089232e7-0ca2-40f1-8137-ef3622475732",
   "metadata": {},
   "outputs": [],
   "source": [
    "import pandas as pd\n",
    "import json"
   ]
  },
  {
   "cell_type": "code",
   "execution_count": 42,
   "id": "4b3b3ec5-9759-45f1-b8b0-12045f40c0b3",
   "metadata": {},
   "outputs": [],
   "source": [
    "total = pd.read_csv(\"../data/inns_tenderous_check.csv\")"
   ]
  },
  {
   "cell_type": "code",
   "execution_count": 43,
   "id": "87592b5c-ceff-437c-a515-38003904c561",
   "metadata": {},
   "outputs": [
    {
     "data": {
      "text/plain": [
       "0       1127847550566\n",
       "1       1131650003561\n",
       "2       1131650008940\n",
       "3       1131832001806\n",
       "4       1132901006424\n",
       "            ...      \n",
       "3418    1197746695343\n",
       "3419    1177746281459\n",
       "3420    1187746027237\n",
       "3421    1207700380128\n",
       "3422    1197746604000\n",
       "Name: ogrn, Length: 3423, dtype: int64"
      ]
     },
     "execution_count": 43,
     "metadata": {},
     "output_type": "execute_result"
    }
   ],
   "source": [
    "total[\"ogrn\"]"
   ]
  },
  {
   "cell_type": "code",
   "execution_count": 44,
   "id": "01d81290-59f7-42dd-b03f-b97f0264269b",
   "metadata": {},
   "outputs": [
    {
     "data": {
      "text/plain": [
       "Index(['ogrn', 'inn', 'actives_x', 'revenue_x', 'short_term_debt_x',\n",
       "       'long_term_debt_x', 'name', 'okveds', 'ustavnoi_capital', 'location',\n",
       "       'egrul_registration_date', 'respondent', 'plaintiffs', 'third',\n",
       "       'participated', 'is_tenderous', 'region_id', 'email', 'phone'],\n",
       "      dtype='object')"
      ]
     },
     "execution_count": 44,
     "metadata": {},
     "output_type": "execute_result"
    }
   ],
   "source": [
    "total.columns"
   ]
  },
  {
   "cell_type": "code",
   "execution_count": 41,
   "id": "d071ec3b-91e9-48f8-bc7b-f0be316219c6",
   "metadata": {},
   "outputs": [
    {
     "data": {
      "text/plain": [
       "0       0\n",
       "1       0\n",
       "2       0\n",
       "3       0\n",
       "4       0\n",
       "       ..\n",
       "3418    1\n",
       "3419    1\n",
       "3420    1\n",
       "3421    1\n",
       "3422    1\n",
       "Name: participated, Length: 3423, dtype: int64"
      ]
     },
     "execution_count": 41,
     "metadata": {},
     "output_type": "execute_result"
    }
   ],
   "source": [
    "total[\"participated\"]"
   ]
  },
  {
   "cell_type": "code",
   "execution_count": 6,
   "id": "3ec7089b-0b20-4da9-8980-afc696b861ac",
   "metadata": {},
   "outputs": [],
   "source": [
    "with open(\"../data/phones/phones_all_companies.json\") as f:\n",
    "    phones = json.load(f)"
   ]
  },
  {
   "cell_type": "code",
   "execution_count": 8,
   "id": "c9bb3d44-941b-41a0-922b-92f64a251fbd",
   "metadata": {},
   "outputs": [],
   "source": [
    "phones_ogrns = [int(ogrn) for ogrn in phones.keys()]"
   ]
  },
  {
   "cell_type": "code",
   "execution_count": 10,
   "id": "ea2293f3-79f9-4a7a-8e03-60db7ee79640",
   "metadata": {},
   "outputs": [
    {
     "data": {
      "text/plain": [
       "3423"
      ]
     },
     "execution_count": 10,
     "metadata": {},
     "output_type": "execute_result"
    }
   ],
   "source": [
    "len(set(phones_ogrns).intersection(total[\"ogrn\"]))"
   ]
  },
  {
   "cell_type": "code",
   "execution_count": 72,
   "id": "628454a9-2394-477c-b8aa-dd434e2b963e",
   "metadata": {
    "collapsed": true,
    "jupyter": {
     "outputs_hidden": true
    },
    "tags": []
   },
   "outputs": [
    {
     "name": "stdout",
     "output_type": "stream",
     "text": [
      "col age\n",
      "col tmp_respondent_mean_year\n",
      "col actives_x\n",
      "col tmp_relative_revenue\n",
      "col participated\n",
      "col tenders_sum_amount\n"
     ]
    },
    {
     "ename": "KeyError",
     "evalue": "'tenders_sum_amount'",
     "output_type": "error",
     "traceback": [
      "\u001b[0;31m---------------------------------------------------------------------------\u001b[0m",
      "\u001b[0;31mKeyError\u001b[0m                                  Traceback (most recent call last)",
      "File \u001b[0;32m~/Projects/serverhack/data_engineering/env/lib/python3.8/site-packages/pandas/core/indexes/base.py:3621\u001b[0m, in \u001b[0;36mIndex.get_loc\u001b[0;34m(self, key, method, tolerance)\u001b[0m\n\u001b[1;32m   3620\u001b[0m \u001b[38;5;28;01mtry\u001b[39;00m:\n\u001b[0;32m-> 3621\u001b[0m     \u001b[38;5;28;01mreturn\u001b[39;00m \u001b[38;5;28;43mself\u001b[39;49m\u001b[38;5;241;43m.\u001b[39;49m\u001b[43m_engine\u001b[49m\u001b[38;5;241;43m.\u001b[39;49m\u001b[43mget_loc\u001b[49m\u001b[43m(\u001b[49m\u001b[43mcasted_key\u001b[49m\u001b[43m)\u001b[49m\n\u001b[1;32m   3622\u001b[0m \u001b[38;5;28;01mexcept\u001b[39;00m \u001b[38;5;167;01mKeyError\u001b[39;00m \u001b[38;5;28;01mas\u001b[39;00m err:\n",
      "File \u001b[0;32m~/Projects/serverhack/data_engineering/env/lib/python3.8/site-packages/pandas/_libs/index.pyx:136\u001b[0m, in \u001b[0;36mpandas._libs.index.IndexEngine.get_loc\u001b[0;34m()\u001b[0m\n",
      "File \u001b[0;32m~/Projects/serverhack/data_engineering/env/lib/python3.8/site-packages/pandas/_libs/index.pyx:163\u001b[0m, in \u001b[0;36mpandas._libs.index.IndexEngine.get_loc\u001b[0;34m()\u001b[0m\n",
      "File \u001b[0;32mpandas/_libs/hashtable_class_helper.pxi:5198\u001b[0m, in \u001b[0;36mpandas._libs.hashtable.PyObjectHashTable.get_item\u001b[0;34m()\u001b[0m\n",
      "File \u001b[0;32mpandas/_libs/hashtable_class_helper.pxi:5206\u001b[0m, in \u001b[0;36mpandas._libs.hashtable.PyObjectHashTable.get_item\u001b[0;34m()\u001b[0m\n",
      "\u001b[0;31mKeyError\u001b[0m: 'tenders_sum_amount'",
      "\nThe above exception was the direct cause of the following exception:\n",
      "\u001b[0;31mKeyError\u001b[0m                                  Traceback (most recent call last)",
      "Input \u001b[0;32mIn [72]\u001b[0m, in \u001b[0;36m<cell line: 73>\u001b[0;34m()\u001b[0m\n\u001b[1;32m     73\u001b[0m \u001b[38;5;28;01mfor\u001b[39;00m col, relation \u001b[38;5;129;01min\u001b[39;00m cols_and_relations:\n\u001b[1;32m     74\u001b[0m     \u001b[38;5;28mprint\u001b[39m(\u001b[38;5;124m\"\u001b[39m\u001b[38;5;124mcol\u001b[39m\u001b[38;5;124m\"\u001b[39m, col)\n\u001b[0;32m---> 75\u001b[0m     score \u001b[38;5;241m+\u001b[39m\u001b[38;5;241m=\u001b[39m \u001b[43mtotal\u001b[49m\u001b[43m[\u001b[49m\u001b[43mcol\u001b[49m\u001b[43m]\u001b[49m\u001b[38;5;241m.\u001b[39mmap(\u001b[38;5;28;01mlambda\u001b[39;00m age: map_for_relation(relation, age))\u001b[38;5;241m.\u001b[39mvalues\n",
      "File \u001b[0;32m~/Projects/serverhack/data_engineering/env/lib/python3.8/site-packages/pandas/core/frame.py:3505\u001b[0m, in \u001b[0;36mDataFrame.__getitem__\u001b[0;34m(self, key)\u001b[0m\n\u001b[1;32m   3503\u001b[0m \u001b[38;5;28;01mif\u001b[39;00m \u001b[38;5;28mself\u001b[39m\u001b[38;5;241m.\u001b[39mcolumns\u001b[38;5;241m.\u001b[39mnlevels \u001b[38;5;241m>\u001b[39m \u001b[38;5;241m1\u001b[39m:\n\u001b[1;32m   3504\u001b[0m     \u001b[38;5;28;01mreturn\u001b[39;00m \u001b[38;5;28mself\u001b[39m\u001b[38;5;241m.\u001b[39m_getitem_multilevel(key)\n\u001b[0;32m-> 3505\u001b[0m indexer \u001b[38;5;241m=\u001b[39m \u001b[38;5;28;43mself\u001b[39;49m\u001b[38;5;241;43m.\u001b[39;49m\u001b[43mcolumns\u001b[49m\u001b[38;5;241;43m.\u001b[39;49m\u001b[43mget_loc\u001b[49m\u001b[43m(\u001b[49m\u001b[43mkey\u001b[49m\u001b[43m)\u001b[49m\n\u001b[1;32m   3506\u001b[0m \u001b[38;5;28;01mif\u001b[39;00m is_integer(indexer):\n\u001b[1;32m   3507\u001b[0m     indexer \u001b[38;5;241m=\u001b[39m [indexer]\n",
      "File \u001b[0;32m~/Projects/serverhack/data_engineering/env/lib/python3.8/site-packages/pandas/core/indexes/base.py:3623\u001b[0m, in \u001b[0;36mIndex.get_loc\u001b[0;34m(self, key, method, tolerance)\u001b[0m\n\u001b[1;32m   3621\u001b[0m     \u001b[38;5;28;01mreturn\u001b[39;00m \u001b[38;5;28mself\u001b[39m\u001b[38;5;241m.\u001b[39m_engine\u001b[38;5;241m.\u001b[39mget_loc(casted_key)\n\u001b[1;32m   3622\u001b[0m \u001b[38;5;28;01mexcept\u001b[39;00m \u001b[38;5;167;01mKeyError\u001b[39;00m \u001b[38;5;28;01mas\u001b[39;00m err:\n\u001b[0;32m-> 3623\u001b[0m     \u001b[38;5;28;01mraise\u001b[39;00m \u001b[38;5;167;01mKeyError\u001b[39;00m(key) \u001b[38;5;28;01mfrom\u001b[39;00m \u001b[38;5;21;01merr\u001b[39;00m\n\u001b[1;32m   3624\u001b[0m \u001b[38;5;28;01mexcept\u001b[39;00m \u001b[38;5;167;01mTypeError\u001b[39;00m:\n\u001b[1;32m   3625\u001b[0m     \u001b[38;5;66;03m# If we have a listlike key, _check_indexing_error will raise\u001b[39;00m\n\u001b[1;32m   3626\u001b[0m     \u001b[38;5;66;03m#  InvalidIndexError. Otherwise we fall through and re-raise\u001b[39;00m\n\u001b[1;32m   3627\u001b[0m     \u001b[38;5;66;03m#  the TypeError.\u001b[39;00m\n\u001b[1;32m   3628\u001b[0m     \u001b[38;5;28mself\u001b[39m\u001b[38;5;241m.\u001b[39m_check_indexing_error(key)\n",
      "\u001b[0;31mKeyError\u001b[0m: 'tenders_sum_amount'"
     ]
    }
   ],
   "source": [
    "age_and_score = [\n",
    "    (0.5, -20),\n",
    "    (1, -10),\n",
    "    (2, 0),\n",
    "    (3, 5),\n",
    "    (5, 15),\n",
    "    (float(\"inf\"), 20)\n",
    "]\n",
    "\n",
    "respondent_mean_year_and_score = [\n",
    "    (0, 10),\n",
    "    (2, 5),\n",
    "    (4, 0),\n",
    "    (10, -5),\n",
    "    (float(\"inf\"), -10)\n",
    "]\n",
    "\n",
    "actives_and_score = [\n",
    "    (50e3, -10),\n",
    "    (150e3, -5),\n",
    "    (300e3, 0),\n",
    "    (1e6, 5),\n",
    "    (float(\"inf\"), 10)\n",
    "]\n",
    "\n",
    "revenue_after_taxes_relative_and_score = [\n",
    "    (9, -10),\n",
    "    (0.5, -5),\n",
    "    (0.7, 0),\n",
    "    (0.85, 5),\n",
    "    (float(\"inf\"), 10)\n",
    "]\n",
    "\n",
    "\n",
    "tenders_count_and_score = [\n",
    "    (0, 0),\n",
    "    (10, 5),\n",
    "    (float(\"inf\"), 10)\n",
    "]\n",
    "\n",
    "\n",
    "tenders_sum_and_score = [\n",
    "    (0, 0),\n",
    "    (float(1e6), 5),\n",
    "    (float(\"inf\"), 10)\n",
    "]\n",
    "\n",
    "def map_for_relation(relation, value):\n",
    "    for max_val, score_change in relation:\n",
    "        if value <= max_val:\n",
    "            return score_change\n",
    "        \n",
    "import warnings\n",
    "from datetime import datetime\n",
    "import numpy as np\n",
    "warnings.simplefilter(\"ignore\")\n",
    "total[\"tmp_egrul_registration_date\"] = pd.to_datetime(total[\"egrul_registration_date\"], errors=\"coerce\")\n",
    "total[\"tmp_age\"] = (datetime.now() - total[\"tmp_egrul_registration_date\"]) / np.timedelta64(1, 'Y')\n",
    "total[\"tmp_respondent_mean_year\"] = total[\"respondent\"] / total[\"age\"]\n",
    "total[\"tmp_relative_revenue\"] = (total[\"revenue_x\"] - total[\"short_term_debt_x\"]) / total[\"revenue_x\"]\n",
    "\n",
    "cols_and_relations = [\n",
    "    (\"age\", age_and_score),\n",
    "    (\"tmp_respondent_mean_year\", respondent_mean_year_and_score),\n",
    "    (\"actives_x\", actives_and_score),\n",
    "    (\"tmp_relative_revenue\", revenue_after_taxes_relative_and_score),\n",
    "    (\"participated\", tenders_count_and_score),\n",
    "    (\"tenders_sum_amount\", tenders_sum_and_score)\n",
    "]\n",
    "\n",
    "score = np.zeros(len(total))\n",
    "\n",
    "for col, relation in cols_and_relations:\n",
    "    print(\"col\", col)\n",
    "    score += total[col].map(lambda age: map_for_relation(relation, age)).values"
   ]
  },
  {
   "cell_type": "code",
   "execution_count": 77,
   "id": "da814c30-140b-4343-8ce9-0ff064d35d5d",
   "metadata": {},
   "outputs": [
    {
     "data": {
      "text/plain": [
       "0.7630733274905054"
      ]
     },
     "execution_count": 77,
     "metadata": {},
     "output_type": "execute_result"
    }
   ],
   "source": [
    "(total[\"participated\"] == 0).sum() / len(total)"
   ]
  },
  {
   "cell_type": "code",
   "execution_count": null,
   "id": "a3233d4e-3830-4188-9f41-e759c294670e",
   "metadata": {},
   "outputs": [],
   "source": []
  }
 ],
 "metadata": {
  "kernelspec": {
   "display_name": "Python 3 (ipykernel)",
   "language": "python",
   "name": "python3"
  },
  "language_info": {
   "codemirror_mode": {
    "name": "ipython",
    "version": 3
   },
   "file_extension": ".py",
   "mimetype": "text/x-python",
   "name": "python",
   "nbconvert_exporter": "python",
   "pygments_lexer": "ipython3",
   "version": "3.8.10"
  }
 },
 "nbformat": 4,
 "nbformat_minor": 5
}
