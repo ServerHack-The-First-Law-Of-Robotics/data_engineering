{
 "cells": [
  {
   "cell_type": "code",
   "execution_count": 21,
   "id": "bbab261f-ce25-4dcf-930c-bf9ad99087b0",
   "metadata": {},
   "outputs": [],
   "source": [
    "import pandas as pd\n",
    "import json"
   ]
  },
  {
   "cell_type": "code",
   "execution_count": 29,
   "id": "d7ae8656-fc89-4c5f-81ee-41885ffe000e",
   "metadata": {},
   "outputs": [],
   "source": [
    "df = pd.read_csv(\"../data/inns_tenderous_check.csv\")"
   ]
  },
  {
   "cell_type": "markdown",
   "id": "73c079c1-3b8d-4c96-8ccd-ce037b29c786",
   "metadata": {},
   "source": [
    "## Добавляем имя компании"
   ]
  },
  {
   "cell_type": "code",
   "execution_count": 27,
   "id": "0846e32c-09e0-46b7-8863-d2a35d3bd3a7",
   "metadata": {},
   "outputs": [],
   "source": [
    "with open(\"../data/egrul/parsed.json\") as f:\n",
    "    egrul = json.load(f)"
   ]
  },
  {
   "cell_type": "code",
   "execution_count": 28,
   "id": "fb607171-26ad-4952-96ca-e326a020f598",
   "metadata": {},
   "outputs": [],
   "source": [
    "inn2name = {}\n",
    "\n",
    "for sample in egrul:\n",
    "    inn2name[sample[\"inn\"]] = sample[\"name\"]"
   ]
  },
  {
   "cell_type": "code",
   "execution_count": 30,
   "id": "32fc3cf3-0dfa-445d-b015-bd8c5250cd2d",
   "metadata": {},
   "outputs": [
    {
     "data": {
      "text/plain": [
       "3145"
      ]
     },
     "execution_count": 30,
     "metadata": {},
     "output_type": "execute_result"
    }
   ],
   "source": [
    "len(inn2name)"
   ]
  },
  {
   "cell_type": "code",
   "execution_count": 35,
   "id": "e75626a6-9ad8-48bb-a63d-c24c596f22d5",
   "metadata": {},
   "outputs": [],
   "source": [
    "with open(\"inn2name.json\", \"w\") as f:\n",
    "    json.dump(inn2name, f)"
   ]
  },
  {
   "cell_type": "code",
   "execution_count": 32,
   "id": "f41bfc37-6d4a-4e12-b710-9e36f5ff75b5",
   "metadata": {},
   "outputs": [],
   "source": [
    "df[\"name\"] = df[\"inn\"].map(lambda x: inn2name[str(x)] if str(x) in inn2name else None)"
   ]
  },
  {
   "cell_type": "markdown",
   "id": "39c601ac-fed9-463e-a327-d9d810662aaa",
   "metadata": {},
   "source": [
    "## "
   ]
  }
 ],
 "metadata": {
  "kernelspec": {
   "display_name": "Python 3 (ipykernel)",
   "language": "python",
   "name": "python3"
  },
  "language_info": {
   "codemirror_mode": {
    "name": "ipython",
    "version": 3
   },
   "file_extension": ".py",
   "mimetype": "text/x-python",
   "name": "python",
   "nbconvert_exporter": "python",
   "pygments_lexer": "ipython3",
   "version": "3.8.10"
  }
 },
 "nbformat": 4,
 "nbformat_minor": 5
}
