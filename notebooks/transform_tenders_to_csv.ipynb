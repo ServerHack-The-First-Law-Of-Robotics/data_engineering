{
 "cells": [
  {
   "cell_type": "code",
   "execution_count": 12,
   "id": "7d9509b6-e5c2-4eaa-ac54-59fa182f1170",
   "metadata": {},
   "outputs": [],
   "source": [
    "from json import load\n",
    "import pandas as pd\n",
    "\n",
    "from collections import defaultdict"
   ]
  },
  {
   "cell_type": "code",
   "execution_count": 13,
   "id": "0fc3da1d-cf4a-44c8-85fa-09cf0cb5dd31",
   "metadata": {},
   "outputs": [],
   "source": [
    "with open(\"../data/tenders/tenders_sber_22_19.json\") as f:\n",
    "    data = load(f)"
   ]
  },
  {
   "cell_type": "code",
   "execution_count": 14,
   "id": "80ff59c1-9bc7-445b-8ddb-52e8f0aa07f7",
   "metadata": {},
   "outputs": [],
   "source": [
    "# решил сохранять суммы выигранных тендеров, и где просто участвовал, тк так просто посчитать и аггрегации по суммам, и количество\n",
    "inn2stats = defaultdict(\n",
    "    lambda: {\"participated_amounts\": [], \"won_amounts\": []}\n",
    ")"
   ]
  },
  {
   "cell_type": "code",
   "execution_count": 15,
   "id": "1973a596-cbba-446f-98f7-1f0968a8b193",
   "metadata": {},
   "outputs": [],
   "source": [
    "for sample in data:\n",
    "    amount = sample[\"amount\"]\n",
    "    for inn, inn_data in sample[\"players\"].items():\n",
    "        if inn_data[\"dopusk\"] == False:\n",
    "            continue\n",
    "        if inn_data[\"zakluchen dogovor\"]:\n",
    "            inn2stats[inn][\"won_amounts\"].append(amount)\n",
    "        inn2stats[inn][\"participated_amounts\"].append(amount)"
   ]
  },
  {
   "cell_type": "code",
   "execution_count": 16,
   "id": "e94ed333-d564-4756-8488-765159f4c242",
   "metadata": {},
   "outputs": [],
   "source": [
    "def mean(values):\n",
    "    if len(values) == 0:\n",
    "        return None\n",
    "    else:\n",
    "        return sum(values) / len(values)"
   ]
  },
  {
   "cell_type": "code",
   "execution_count": 17,
   "id": "c9c160de-639f-44f0-b843-674884357326",
   "metadata": {},
   "outputs": [],
   "source": [
    "inn2features = {}\n",
    "\n",
    "for inn, stats in inn2stats.items():\n",
    "    features = {\n",
    "        \"cnt_participated\": len(stats[\"participated_amounts\"]),\n",
    "        \"cnt_won\": len(stats[\"won_amounts\"]),\n",
    "        \n",
    "        \"sum_participated_amount\": sum(stats[\"participated_amounts\"]),\n",
    "        \"sum_won_amount\": sum(stats[\"won_amounts\"]),\n",
    "        \n",
    "        \"mean_participated_amount\": mean(stats[\"participated_amounts\"]),\n",
    "        \"mean_won_amount\": mean(stats[\"won_amounts\"]),\n",
    "    }\n",
    "    inn2features[inn] = features"
   ]
  },
  {
   "cell_type": "code",
   "execution_count": 18,
   "id": "90232919-ded5-4d77-8d3c-2a405c156a7a",
   "metadata": {},
   "outputs": [],
   "source": [
    "aggregates_df = pd.DataFrame.from_records(inn2features).T"
   ]
  },
  {
   "cell_type": "code",
   "execution_count": 19,
   "id": "1d1dfa81-7a15-429e-ad02-1e59ed33a876",
   "metadata": {},
   "outputs": [],
   "source": [
    "aggregates_df.index.name = \"inn\""
   ]
  },
  {
   "cell_type": "code",
   "execution_count": 20,
   "id": "375a16ef-cc1c-4bdf-9953-8f26e559bc1d",
   "metadata": {},
   "outputs": [],
   "source": [
    "aggregates_df.to_csv(\"../data/tenders_sber_22_19_aggregates.csv\")"
   ]
  },
  {
   "cell_type": "code",
   "execution_count": null,
   "id": "c86a6d6d-6df9-4fce-8fe9-b39aa625de0f",
   "metadata": {},
   "outputs": [],
   "source": []
  }
 ],
 "metadata": {
  "kernelspec": {
   "display_name": "Python 3 (ipykernel)",
   "language": "python",
   "name": "python3"
  },
  "language_info": {
   "codemirror_mode": {
    "name": "ipython",
    "version": 3
   },
   "file_extension": ".py",
   "mimetype": "text/x-python",
   "name": "python",
   "nbconvert_exporter": "python",
   "pygments_lexer": "ipython3",
   "version": "3.8.10"
  }
 },
 "nbformat": 4,
 "nbformat_minor": 5
}
