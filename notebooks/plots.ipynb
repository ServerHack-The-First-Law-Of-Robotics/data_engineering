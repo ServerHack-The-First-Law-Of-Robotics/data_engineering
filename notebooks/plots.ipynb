{
 "cells": [
  {
   "cell_type": "code",
   "execution_count": 28,
   "metadata": {
    "tags": []
   },
   "outputs": [],
   "source": [
    "from matplotlib import pyplot as plt\n",
    "import pandas as pd\n",
    "import seaborn as sns\n",
    "import numpy as np\n"
   ]
  },
  {
   "cell_type": "code",
   "execution_count": 29,
   "metadata": {
    "collapsed": false,
    "jupyter": {
     "outputs_hidden": false
    },
    "pycharm": {
     "name": "#%%\n"
    }
   },
   "outputs": [],
   "source": [
    "table = pd.read_csv('../data/tenders_sber_22_19_aggregates.csv')\n",
    "table2 = pd.read_csv('../data/tenders_sber_25_94_aggregates.csv')"
   ]
  },
  {
   "cell_type": "code",
   "execution_count": 30,
   "metadata": {},
   "outputs": [],
   "source": [
    "table = pd.concat([table2, table], ignore_index=True)"
   ]
  },
  {
   "cell_type": "code",
   "execution_count": 39,
   "metadata": {},
   "outputs": [
    {
     "data": {
      "text/html": [
       "<div>\n",
       "<style scoped>\n",
       "    .dataframe tbody tr th:only-of-type {\n",
       "        vertical-align: middle;\n",
       "    }\n",
       "\n",
       "    .dataframe tbody tr th {\n",
       "        vertical-align: top;\n",
       "    }\n",
       "\n",
       "    .dataframe thead th {\n",
       "        text-align: right;\n",
       "    }\n",
       "</style>\n",
       "<table border=\"1\" class=\"dataframe\">\n",
       "  <thead>\n",
       "    <tr style=\"text-align: right;\">\n",
       "      <th></th>\n",
       "      <th>inn</th>\n",
       "      <th>cnt_participated</th>\n",
       "      <th>cnt_won</th>\n",
       "      <th>sum_participated_amount</th>\n",
       "      <th>sum_won_amount</th>\n",
       "      <th>mean_participated_amount</th>\n",
       "      <th>mean_won_amount</th>\n",
       "    </tr>\n",
       "  </thead>\n",
       "  <tbody>\n",
       "    <tr>\n",
       "      <th>0</th>\n",
       "      <td>1101145815</td>\n",
       "      <td>1.0</td>\n",
       "      <td>1.0</td>\n",
       "      <td>24337.48</td>\n",
       "      <td>24337.48</td>\n",
       "      <td>2.433748e+04</td>\n",
       "      <td>24337.480</td>\n",
       "    </tr>\n",
       "    <tr>\n",
       "      <th>1</th>\n",
       "      <td>1435079640</td>\n",
       "      <td>1.0</td>\n",
       "      <td>1.0</td>\n",
       "      <td>659535.56</td>\n",
       "      <td>659535.56</td>\n",
       "      <td>6.595356e+05</td>\n",
       "      <td>659535.560</td>\n",
       "    </tr>\n",
       "    <tr>\n",
       "      <th>2</th>\n",
       "      <td>183100192425</td>\n",
       "      <td>1.0</td>\n",
       "      <td>0.0</td>\n",
       "      <td>546687.00</td>\n",
       "      <td>0.00</td>\n",
       "      <td>5.466870e+05</td>\n",
       "      <td>NaN</td>\n",
       "    </tr>\n",
       "    <tr>\n",
       "      <th>3</th>\n",
       "      <td>1832133318</td>\n",
       "      <td>1.0</td>\n",
       "      <td>1.0</td>\n",
       "      <td>2883261.70</td>\n",
       "      <td>2883261.70</td>\n",
       "      <td>2.883262e+06</td>\n",
       "      <td>2883261.700</td>\n",
       "    </tr>\n",
       "    <tr>\n",
       "      <th>4</th>\n",
       "      <td>221001096009</td>\n",
       "      <td>1.0</td>\n",
       "      <td>0.0</td>\n",
       "      <td>4019268.06</td>\n",
       "      <td>0.00</td>\n",
       "      <td>4.019268e+06</td>\n",
       "      <td>NaN</td>\n",
       "    </tr>\n",
       "    <tr>\n",
       "      <th>...</th>\n",
       "      <td>...</td>\n",
       "      <td>...</td>\n",
       "      <td>...</td>\n",
       "      <td>...</td>\n",
       "      <td>...</td>\n",
       "      <td>...</td>\n",
       "      <td>...</td>\n",
       "    </tr>\n",
       "    <tr>\n",
       "      <th>858</th>\n",
       "      <td>9724010627</td>\n",
       "      <td>7.0</td>\n",
       "      <td>2.0</td>\n",
       "      <td>2644253.48</td>\n",
       "      <td>78155.69</td>\n",
       "      <td>3.777505e+05</td>\n",
       "      <td>39077.845</td>\n",
       "    </tr>\n",
       "    <tr>\n",
       "      <th>859</th>\n",
       "      <td>9725035286</td>\n",
       "      <td>1.0</td>\n",
       "      <td>0.0</td>\n",
       "      <td>1167447.00</td>\n",
       "      <td>0.00</td>\n",
       "      <td>1.167447e+06</td>\n",
       "      <td>NaN</td>\n",
       "    </tr>\n",
       "    <tr>\n",
       "      <th>860</th>\n",
       "      <td>9728038493</td>\n",
       "      <td>1.0</td>\n",
       "      <td>1.0</td>\n",
       "      <td>770074.87</td>\n",
       "      <td>770074.87</td>\n",
       "      <td>7.700749e+05</td>\n",
       "      <td>770074.870</td>\n",
       "    </tr>\n",
       "    <tr>\n",
       "      <th>861</th>\n",
       "      <td>990102784250</td>\n",
       "      <td>2.0</td>\n",
       "      <td>2.0</td>\n",
       "      <td>588360.48</td>\n",
       "      <td>588360.48</td>\n",
       "      <td>2.941802e+05</td>\n",
       "      <td>294180.240</td>\n",
       "    </tr>\n",
       "    <tr>\n",
       "      <th>862</th>\n",
       "      <td>9901036552</td>\n",
       "      <td>3.0</td>\n",
       "      <td>1.0</td>\n",
       "      <td>510891.29</td>\n",
       "      <td>135538.22</td>\n",
       "      <td>1.702971e+05</td>\n",
       "      <td>135538.220</td>\n",
       "    </tr>\n",
       "  </tbody>\n",
       "</table>\n",
       "<p>863 rows × 7 columns</p>\n",
       "</div>"
      ],
      "text/plain": [
       "              inn  cnt_participated  cnt_won  sum_participated_amount  \\\n",
       "0      1101145815               1.0      1.0                 24337.48   \n",
       "1      1435079640               1.0      1.0                659535.56   \n",
       "2    183100192425               1.0      0.0                546687.00   \n",
       "3      1832133318               1.0      1.0               2883261.70   \n",
       "4    221001096009               1.0      0.0               4019268.06   \n",
       "..            ...               ...      ...                      ...   \n",
       "858    9724010627               7.0      2.0               2644253.48   \n",
       "859    9725035286               1.0      0.0               1167447.00   \n",
       "860    9728038493               1.0      1.0                770074.87   \n",
       "861  990102784250               2.0      2.0                588360.48   \n",
       "862    9901036552               3.0      1.0                510891.29   \n",
       "\n",
       "     sum_won_amount  mean_participated_amount  mean_won_amount  \n",
       "0          24337.48              2.433748e+04        24337.480  \n",
       "1         659535.56              6.595356e+05       659535.560  \n",
       "2              0.00              5.466870e+05              NaN  \n",
       "3        2883261.70              2.883262e+06      2883261.700  \n",
       "4              0.00              4.019268e+06              NaN  \n",
       "..              ...                       ...              ...  \n",
       "858        78155.69              3.777505e+05        39077.845  \n",
       "859            0.00              1.167447e+06              NaN  \n",
       "860       770074.87              7.700749e+05       770074.870  \n",
       "861       588360.48              2.941802e+05       294180.240  \n",
       "862       135538.22              1.702971e+05       135538.220  \n",
       "\n",
       "[863 rows x 7 columns]"
      ]
     },
     "execution_count": 39,
     "metadata": {},
     "output_type": "execute_result"
    }
   ],
   "source": [
    "table"
   ]
  },
  {
   "cell_type": "code",
   "execution_count": 40,
   "metadata": {
    "collapsed": false,
    "jupyter": {
     "outputs_hidden": false
    },
    "pycharm": {
     "name": "#%%\n"
    }
   },
   "outputs": [],
   "source": [
    "tenders = table[['inn', 'mean_won_amount']]"
   ]
  },
  {
   "cell_type": "code",
   "execution_count": 41,
   "metadata": {},
   "outputs": [
    {
     "data": {
      "text/plain": [
       "863"
      ]
     },
     "execution_count": 41,
     "metadata": {},
     "output_type": "execute_result"
    }
   ],
   "source": [
    "len(tenders)"
   ]
  },
  {
   "cell_type": "code",
   "execution_count": 42,
   "metadata": {
    "collapsed": false,
    "jupyter": {
     "outputs_hidden": false
    },
    "pycharm": {
     "name": "#%%\n"
    }
   },
   "outputs": [],
   "source": [
    "# tenders.mean_participated_amount.quantile([0.25,0.5,0.75])"
   ]
  },
  {
   "cell_type": "code",
   "execution_count": 43,
   "metadata": {
    "collapsed": false,
    "jupyter": {
     "outputs_hidden": false
    },
    "pycharm": {
     "name": "#%%\n"
    }
   },
   "outputs": [],
   "source": [
    "total = pd.read_csv('../data/mega_total.csv')[['inn', 'revenue_x']]"
   ]
  },
  {
   "cell_type": "code",
   "execution_count": 44,
   "metadata": {
    "collapsed": false,
    "jupyter": {
     "outputs_hidden": false
    },
    "pycharm": {
     "name": "#%%\n"
    }
   },
   "outputs": [],
   "source": [
    "df = tenders.merge(total, how='inner', on=['inn'])"
   ]
  },
  {
   "cell_type": "code",
   "execution_count": 45,
   "metadata": {
    "collapsed": false,
    "jupyter": {
     "outputs_hidden": false
    },
    "pycharm": {
     "name": "#%%\n"
    }
   },
   "outputs": [],
   "source": [
    "df = df.dropna()"
   ]
  },
  {
   "cell_type": "code",
   "execution_count": 46,
   "metadata": {
    "collapsed": false,
    "jupyter": {
     "outputs_hidden": false
    },
    "pycharm": {
     "name": "#%%\n"
    }
   },
   "outputs": [
    {
     "data": {
      "text/html": [
       "<div>\n",
       "<style scoped>\n",
       "    .dataframe tbody tr th:only-of-type {\n",
       "        vertical-align: middle;\n",
       "    }\n",
       "\n",
       "    .dataframe tbody tr th {\n",
       "        vertical-align: top;\n",
       "    }\n",
       "\n",
       "    .dataframe thead th {\n",
       "        text-align: right;\n",
       "    }\n",
       "</style>\n",
       "<table border=\"1\" class=\"dataframe\">\n",
       "  <thead>\n",
       "    <tr style=\"text-align: right;\">\n",
       "      <th></th>\n",
       "      <th>inn</th>\n",
       "      <th>mean_won_amount</th>\n",
       "      <th>revenue_x</th>\n",
       "    </tr>\n",
       "  </thead>\n",
       "  <tbody>\n",
       "    <tr>\n",
       "      <th>0</th>\n",
       "      <td>1101145815</td>\n",
       "      <td>24337.480</td>\n",
       "      <td>107440.0</td>\n",
       "    </tr>\n",
       "    <tr>\n",
       "      <th>1</th>\n",
       "      <td>1435079640</td>\n",
       "      <td>659535.560</td>\n",
       "      <td>797493.0</td>\n",
       "    </tr>\n",
       "    <tr>\n",
       "      <th>3</th>\n",
       "      <td>1832133318</td>\n",
       "      <td>2883261.700</td>\n",
       "      <td>42341.0</td>\n",
       "    </tr>\n",
       "    <tr>\n",
       "      <th>8</th>\n",
       "      <td>2311251522</td>\n",
       "      <td>2029223.130</td>\n",
       "      <td>701590.0</td>\n",
       "    </tr>\n",
       "    <tr>\n",
       "      <th>11</th>\n",
       "      <td>2312130785</td>\n",
       "      <td>329093.020</td>\n",
       "      <td>521464.0</td>\n",
       "    </tr>\n",
       "    <tr>\n",
       "      <th>...</th>\n",
       "      <td>...</td>\n",
       "      <td>...</td>\n",
       "      <td>...</td>\n",
       "    </tr>\n",
       "    <tr>\n",
       "      <th>852</th>\n",
       "      <td>9705038553</td>\n",
       "      <td>703425.890</td>\n",
       "      <td>75901.0</td>\n",
       "    </tr>\n",
       "    <tr>\n",
       "      <th>853</th>\n",
       "      <td>9709047750</td>\n",
       "      <td>3767208.330</td>\n",
       "      <td>358802.0</td>\n",
       "    </tr>\n",
       "    <tr>\n",
       "      <th>856</th>\n",
       "      <td>9715310575</td>\n",
       "      <td>5847389.670</td>\n",
       "      <td>1019975.0</td>\n",
       "    </tr>\n",
       "    <tr>\n",
       "      <th>857</th>\n",
       "      <td>9715361322</td>\n",
       "      <td>5783679.000</td>\n",
       "      <td>112148.0</td>\n",
       "    </tr>\n",
       "    <tr>\n",
       "      <th>860</th>\n",
       "      <td>9724010627</td>\n",
       "      <td>39077.845</td>\n",
       "      <td>1603.0</td>\n",
       "    </tr>\n",
       "  </tbody>\n",
       "</table>\n",
       "<p>356 rows × 3 columns</p>\n",
       "</div>"
      ],
      "text/plain": [
       "            inn  mean_won_amount  revenue_x\n",
       "0    1101145815        24337.480   107440.0\n",
       "1    1435079640       659535.560   797493.0\n",
       "3    1832133318      2883261.700    42341.0\n",
       "8    2311251522      2029223.130   701590.0\n",
       "11   2312130785       329093.020   521464.0\n",
       "..          ...              ...        ...\n",
       "852  9705038553       703425.890    75901.0\n",
       "853  9709047750      3767208.330   358802.0\n",
       "856  9715310575      5847389.670  1019975.0\n",
       "857  9715361322      5783679.000   112148.0\n",
       "860  9724010627        39077.845     1603.0\n",
       "\n",
       "[356 rows x 3 columns]"
      ]
     },
     "execution_count": 46,
     "metadata": {},
     "output_type": "execute_result"
    }
   ],
   "source": [
    "df"
   ]
  },
  {
   "cell_type": "code",
   "execution_count": 47,
   "metadata": {
    "collapsed": false,
    "jupyter": {
     "outputs_hidden": false
    },
    "pycharm": {
     "name": "#%%\n"
    }
   },
   "outputs": [],
   "source": [
    "d = df"
   ]
  },
  {
   "cell_type": "code",
   "execution_count": 57,
   "metadata": {
    "pycharm": {
     "name": "#%%\n"
    },
    "tags": []
   },
   "outputs": [
    {
     "data": {
      "image/png": "[encoded data removed]",
      "text/plain": [
       "<Figure size 720x576 with 1 Axes>"
      ]
     },
     "metadata": {
      "needs_background": "light"
     },
     "output_type": "display_data"
    }
   ],
   "source": [
    "dlong = d.melt(var_name='feature', value_name='value')\n",
    "dlong['bins'] = pd.cut(dlong['value'], 4)\n",
    "fig, ax = plt.subplots(figsize=(10, 8))\n",
    "ax.\n",
    "sns.boxplot(data=dlong, x='bins', y='value', hue='feature', ax=ax)\n",
    "ax.tick_params(axis='x', rotation=90)\n",
    "plt.tight_layout()\n",
    "plt.show()"
   ]
  },
  {
   "cell_type": "code",
   "execution_count": 49,
   "metadata": {},
   "outputs": [
    {
     "data": {
      "text/html": [
       "<div>\n",
       "<style scoped>\n",
       "    .dataframe tbody tr th:only-of-type {\n",
       "        vertical-align: middle;\n",
       "    }\n",
       "\n",
       "    .dataframe tbody tr th {\n",
       "        vertical-align: top;\n",
       "    }\n",
       "\n",
       "    .dataframe thead th {\n",
       "        text-align: right;\n",
       "    }\n",
       "</style>\n",
       "<table border=\"1\" class=\"dataframe\">\n",
       "  <thead>\n",
       "    <tr style=\"text-align: right;\">\n",
       "      <th></th>\n",
       "      <th>inn</th>\n",
       "      <th>mean_won_amount</th>\n",
       "      <th>revenue_x</th>\n",
       "    </tr>\n",
       "  </thead>\n",
       "  <tbody>\n",
       "    <tr>\n",
       "      <th>0</th>\n",
       "      <td>1101145815</td>\n",
       "      <td>24337.480</td>\n",
       "      <td>107440.0</td>\n",
       "    </tr>\n",
       "    <tr>\n",
       "      <th>1</th>\n",
       "      <td>1435079640</td>\n",
       "      <td>659535.560</td>\n",
       "      <td>797493.0</td>\n",
       "    </tr>\n",
       "    <tr>\n",
       "      <th>3</th>\n",
       "      <td>1832133318</td>\n",
       "      <td>2883261.700</td>\n",
       "      <td>42341.0</td>\n",
       "    </tr>\n",
       "    <tr>\n",
       "      <th>8</th>\n",
       "      <td>2311251522</td>\n",
       "      <td>2029223.130</td>\n",
       "      <td>701590.0</td>\n",
       "    </tr>\n",
       "    <tr>\n",
       "      <th>11</th>\n",
       "      <td>2312130785</td>\n",
       "      <td>329093.020</td>\n",
       "      <td>521464.0</td>\n",
       "    </tr>\n",
       "    <tr>\n",
       "      <th>...</th>\n",
       "      <td>...</td>\n",
       "      <td>...</td>\n",
       "      <td>...</td>\n",
       "    </tr>\n",
       "    <tr>\n",
       "      <th>852</th>\n",
       "      <td>9705038553</td>\n",
       "      <td>703425.890</td>\n",
       "      <td>75901.0</td>\n",
       "    </tr>\n",
       "    <tr>\n",
       "      <th>853</th>\n",
       "      <td>9709047750</td>\n",
       "      <td>3767208.330</td>\n",
       "      <td>358802.0</td>\n",
       "    </tr>\n",
       "    <tr>\n",
       "      <th>856</th>\n",
       "      <td>9715310575</td>\n",
       "      <td>5847389.670</td>\n",
       "      <td>1019975.0</td>\n",
       "    </tr>\n",
       "    <tr>\n",
       "      <th>857</th>\n",
       "      <td>9715361322</td>\n",
       "      <td>5783679.000</td>\n",
       "      <td>112148.0</td>\n",
       "    </tr>\n",
       "    <tr>\n",
       "      <th>860</th>\n",
       "      <td>9724010627</td>\n",
       "      <td>39077.845</td>\n",
       "      <td>1603.0</td>\n",
       "    </tr>\n",
       "  </tbody>\n",
       "</table>\n",
       "<p>356 rows × 3 columns</p>\n",
       "</div>"
      ],
      "text/plain": [
       "            inn  mean_won_amount  revenue_x\n",
       "0    1101145815        24337.480   107440.0\n",
       "1    1435079640       659535.560   797493.0\n",
       "3    1832133318      2883261.700    42341.0\n",
       "8    2311251522      2029223.130   701590.0\n",
       "11   2312130785       329093.020   521464.0\n",
       "..          ...              ...        ...\n",
       "852  9705038553       703425.890    75901.0\n",
       "853  9709047750      3767208.330   358802.0\n",
       "856  9715310575      5847389.670  1019975.0\n",
       "857  9715361322      5783679.000   112148.0\n",
       "860  9724010627        39077.845     1603.0\n",
       "\n",
       "[356 rows x 3 columns]"
      ]
     },
     "execution_count": 49,
     "metadata": {},
     "output_type": "execute_result"
    }
   ],
   "source": [
    "df"
   ]
  },
  {
   "cell_type": "code",
   "execution_count": 50,
   "metadata": {
    "collapsed": false,
    "jupyter": {
     "outputs_hidden": false
    },
    "pycharm": {
     "name": "#%%\n"
    }
   },
   "outputs": [
    {
     "data": {
      "text/plain": [
       "0.25    2.268942e+05\n",
       "0.50    5.823113e+05\n",
       "0.75    1.472175e+06\n",
       "Name: mean_won_amount, dtype: float64"
      ]
     },
     "execution_count": 50,
     "metadata": {},
     "output_type": "execute_result"
    }
   ],
   "source": [
    "df[\"mean_won_amount\"].quantile([0.25, 0.5, 0.75])"
   ]
  },
  {
   "cell_type": "code",
   "execution_count": null,
   "metadata": {},
   "outputs": [
    {
     "name": "stdout",
     "output_type": "stream",
     "text": [
      "0.2     13942.4\n",
      "0.8    217407.0\n",
      "Name: revenue_x, dtype: float64\n",
      "0.2     25015.0\n",
      "0.8    367174.2\n",
      "Name: revenue_x, dtype: float64\n",
      "0.2     25403.4\n",
      "0.8    619401.0\n",
      "Name: revenue_x, dtype: float64\n",
      "0.2     25301.0\n",
      "0.8    821689.8\n",
      "Name: revenue_x, dtype: float64\n"
     ]
    }
   ],
   "source": [
    "separators = [2.268942e+05, 5.823113e+05, 1.472175e+06]\n",
    "\n",
    "for idx in range(4):\n",
    "    if idx == 0:\n",
    "        left = 0\n",
    "    else:\n",
    "        left = separators[idx - 1]\n",
    "        \n",
    "    if idx < 2:\n",
    "        right = separators[idx + 1]\n",
    "    else:\n",
    "        right = float(\"inf\")\n",
    "        \n",
    "    print(df[df[\"mean_won_amount\"].between(left, right)][\"revenue_x\"].quantile(0.2, 0.8))"
   ]
  },
  {
   "cell_type": "code",
   "execution_count": null,
   "metadata": {},
   "outputs": [],
   "source": []
  },
  {
   "cell_type": "code",
   "execution_count": null,
   "metadata": {},
   "outputs": [],
   "source": []
  }
 ],
 "metadata": {
  "kernelspec": {
   "display_name": "Python 3 (ipykernel)",
   "language": "python",
   "name": "python3"
  },
  "language_info": {
   "codemirror_mode": {
    "name": "ipython",
    "version": 3
   },
   "file_extension": ".py",
   "mimetype": "text/x-python",
   "name": "python",
   "nbconvert_exporter": "python",
   "pygments_lexer": "ipython3",
   "version": "3.8.10"
  }
 },
 "nbformat": 4,
 "nbformat_minor": 4
}
