{
 "cells": [
  {
   "cell_type": "code",
   "execution_count": 1,
   "id": "fd913f3c-678c-4bb3-a8d3-badb6c933734",
   "metadata": {},
   "outputs": [],
   "source": [
    "from requests import post, get\n",
    "from requests.auth import HTTPProxyAuth\n",
    "\n",
    "from aiohttp import ClientSession\n",
    "from asyncio import get_event_loop"
   ]
  },
  {
   "cell_type": "code",
   "execution_count": 11,
   "id": "cf10f1ba-4627-410c-91e4-3aa843cae7fb",
   "metadata": {},
   "outputs": [],
   "source": [
    "resp = get(\"https://egrul.nalog.ru/vyp-request/6DFE5A83DFA88B1E269792C5E1FB20961D004BFE7A64A7810452DD9A74E05708EA1C9EF941BFAE7F06C7952682571F905003763279A30683CACD4B4B25825A5D\")"
   ]
  },
  {
   "cell_type": "code",
   "execution_count": 19,
   "id": "6f701c8d-b379-4737-8360-d193e662e2ca",
   "metadata": {},
   "outputs": [],
   "source": [
    "resp = get(\"https://egrul.nalog.ru/vyp-status/6DFE5A83DFA88B1E269792C5E1FB20961D004BFE7A64A7810452DD9A74E05708EA1C9EF941BFAE7F06C7952682571F905003763279A30683CACD4B4B25825A5D\")"
   ]
  },
  {
   "cell_type": "code",
   "execution_count": 20,
   "id": "29511158-a170-4dbd-927e-173545b113e3",
   "metadata": {},
   "outputs": [
    {
     "data": {
      "text/plain": [
       "{'status': 'ready'}"
      ]
     },
     "execution_count": 20,
     "metadata": {},
     "output_type": "execute_result"
    }
   ],
   "source": [
    "resp.json()"
   ]
  },
  {
   "cell_type": "code",
   "execution_count": 15,
   "id": "227d067e-f428-481b-9964-ba3b0b5b2ada",
   "metadata": {},
   "outputs": [],
   "source": [
    "resp = get(\"https://egrul.nalog.ru/vyp-download/6DFE5A83DFA88B1E269792C5E1FB20961D004BFE7A64A7810452DD9A74E05708EA1C9EF941BFAE7F06C7952682571F905003763279A30683CACD4B4B25825A5D\")"
   ]
  },
  {
   "cell_type": "code",
   "execution_count": 16,
   "id": "20499005-3440-4e52-8cc8-3ad091efbf9a",
   "metadata": {},
   "outputs": [
    {
     "data": {
      "text/plain": [
       "<Response [200]>"
      ]
     },
     "execution_count": 16,
     "metadata": {},
     "output_type": "execute_result"
    }
   ],
   "source": [
    "resp"
   ]
  },
  {
   "cell_type": "code",
   "execution_count": 4,
   "id": "704b51bd-57a6-4f83-99c5-fa83caae1c16",
   "metadata": {},
   "outputs": [],
   "source": [
    "async def run():\n",
    "    async with ClientSession(cookies={}) as session:\n",
    "        async with session.get(\n",
    "            f'https://egrul.nalog.ru/vyp-download/{file_access_code}',\n",
    "            **kwargs\n",
    "        ) as resp:\n",
    "            print(resp.status_code)"
   ]
  },
  {
   "cell_type": "code",
   "execution_count": 5,
   "id": "b33efd26-c456-4090-a7ca-9b2842670f36",
   "metadata": {},
   "outputs": [],
   "source": [
    "kwargs = {}\n",
    "if False:\n",
    "    kwargs = kwargs.copy()\n",
    "    kwargs[\"proxy\"] = self.resource\n",
    "\n",
    "kwargs[\"headers\"] = {\n",
    "    \"User-Agent\": \"Mozilla/5.0 (X11; Linux x86_64) AppleWebKit/537.36 (KHTML, like Gecko) \"\n",
    "                  \"Chrome/98.0.4758.102 Safari/537.36 \"\n",
    "}\n"
   ]
  },
  {
   "cell_type": "code",
   "execution_count": 6,
   "id": "0837e17b-7aaf-4c17-af83-3b2b1e3d6252",
   "metadata": {},
   "outputs": [],
   "source": [
    "loop = get_event_loop()"
   ]
  },
  {
   "cell_type": "code",
   "execution_count": 58,
   "id": "f3487652-64ea-435d-b9e6-800c4f19ae28",
   "metadata": {},
   "outputs": [
    {
     "ename": "RuntimeError",
     "evalue": "This event loop is already running",
     "output_type": "error",
     "traceback": [
      "\u001b[0;31m---------------------------------------------------------------------------\u001b[0m",
      "\u001b[0;31mRuntimeError\u001b[0m                              Traceback (most recent call last)",
      "Input \u001b[0;32mIn [58]\u001b[0m, in \u001b[0;36m<cell line: 1>\u001b[0;34m()\u001b[0m\n\u001b[0;32m----> 1\u001b[0m \u001b[43mloop\u001b[49m\u001b[38;5;241;43m.\u001b[39;49m\u001b[43mrun_until_complete\u001b[49m\u001b[43m(\u001b[49m\u001b[43mrun\u001b[49m\u001b[43m)\u001b[49m\n",
      "File \u001b[0;32m/usr/lib/python3.8/asyncio/base_events.py:592\u001b[0m, in \u001b[0;36mBaseEventLoop.run_until_complete\u001b[0;34m(self, future)\u001b[0m\n\u001b[1;32m    581\u001b[0m \u001b[38;5;124;03m\"\"\"Run until the Future is done.\u001b[39;00m\n\u001b[1;32m    582\u001b[0m \n\u001b[1;32m    583\u001b[0m \u001b[38;5;124;03mIf the argument is a coroutine, it is wrapped in a Task.\u001b[39;00m\n\u001b[0;32m   (...)\u001b[0m\n\u001b[1;32m    589\u001b[0m \u001b[38;5;124;03mReturn the Future's result, or raise its exception.\u001b[39;00m\n\u001b[1;32m    590\u001b[0m \u001b[38;5;124;03m\"\"\"\u001b[39;00m\n\u001b[1;32m    591\u001b[0m \u001b[38;5;28mself\u001b[39m\u001b[38;5;241m.\u001b[39m_check_closed()\n\u001b[0;32m--> 592\u001b[0m \u001b[38;5;28;43mself\u001b[39;49m\u001b[38;5;241;43m.\u001b[39;49m\u001b[43m_check_running\u001b[49m\u001b[43m(\u001b[49m\u001b[43m)\u001b[49m\n\u001b[1;32m    594\u001b[0m new_task \u001b[38;5;241m=\u001b[39m \u001b[38;5;129;01mnot\u001b[39;00m futures\u001b[38;5;241m.\u001b[39misfuture(future)\n\u001b[1;32m    595\u001b[0m future \u001b[38;5;241m=\u001b[39m tasks\u001b[38;5;241m.\u001b[39mensure_future(future, loop\u001b[38;5;241m=\u001b[39m\u001b[38;5;28mself\u001b[39m)\n",
      "File \u001b[0;32m/usr/lib/python3.8/asyncio/base_events.py:552\u001b[0m, in \u001b[0;36mBaseEventLoop._check_running\u001b[0;34m(self)\u001b[0m\n\u001b[1;32m    550\u001b[0m \u001b[38;5;28;01mdef\u001b[39;00m \u001b[38;5;21m_check_running\u001b[39m(\u001b[38;5;28mself\u001b[39m):\n\u001b[1;32m    551\u001b[0m     \u001b[38;5;28;01mif\u001b[39;00m \u001b[38;5;28mself\u001b[39m\u001b[38;5;241m.\u001b[39mis_running():\n\u001b[0;32m--> 552\u001b[0m         \u001b[38;5;28;01mraise\u001b[39;00m \u001b[38;5;167;01mRuntimeError\u001b[39;00m(\u001b[38;5;124m'\u001b[39m\u001b[38;5;124mThis event loop is already running\u001b[39m\u001b[38;5;124m'\u001b[39m)\n\u001b[1;32m    553\u001b[0m     \u001b[38;5;28;01mif\u001b[39;00m events\u001b[38;5;241m.\u001b[39m_get_running_loop() \u001b[38;5;129;01mis\u001b[39;00m \u001b[38;5;129;01mnot\u001b[39;00m \u001b[38;5;28;01mNone\u001b[39;00m:\n\u001b[1;32m    554\u001b[0m         \u001b[38;5;28;01mraise\u001b[39;00m \u001b[38;5;167;01mRuntimeError\u001b[39;00m(\n\u001b[1;32m    555\u001b[0m             \u001b[38;5;124m'\u001b[39m\u001b[38;5;124mCannot run the event loop while another loop is running\u001b[39m\u001b[38;5;124m'\u001b[39m)\n",
      "\u001b[0;31mRuntimeError\u001b[0m: This event loop is already running"
     ]
    }
   ],
   "source": [
    "loop.run_until_complete(run)"
   ]
  },
  {
   "cell_type": "code",
   "execution_count": null,
   "id": "e52e5f37-74a9-4c01-a371-2a0f1b397485",
   "metadata": {},
   "outputs": [],
   "source": []
  }
 ],
 "metadata": {
  "kernelspec": {
   "display_name": "Python 3 (ipykernel)",
   "language": "python",
   "name": "python3"
  },
  "language_info": {
   "codemirror_mode": {
    "name": "ipython",
    "version": 3
   },
   "file_extension": ".py",
   "mimetype": "text/x-python",
   "name": "python",
   "nbconvert_exporter": "python",
   "pygments_lexer": "ipython3",
   "version": "3.8.10"
  }
 },
 "nbformat": 4,
 "nbformat_minor": 5
}
